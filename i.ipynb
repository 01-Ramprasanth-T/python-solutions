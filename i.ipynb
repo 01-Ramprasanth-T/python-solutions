{
 "cells": [
  {
   "cell_type": "code",
   "execution_count": 16,
   "metadata": {},
   "outputs": [
    {
     "name": "stdout",
     "output_type": "stream",
     "text": [
      "ABCDEFDEFGHIJKLMNOPQRSTUVWXYZ\n"
     ]
    }
   ],
   "source": [
    "abc = \"abcdefdefghijklmnopqrstuvwxyz\".upper()\n",
    "abc = list(abc)\n",
    "abc = ''.join(abc)\n",
    "print(abc)"
   ]
  },
  {
   "cell_type": "code",
   "execution_count": 17,
   "metadata": {},
   "outputs": [
    {
     "name": "stdout",
     "output_type": "stream",
     "text": [
      "['A', 'CDEFDEFGHIJKLMNOPQRSTUVWXYZ']\n"
     ]
    }
   ],
   "source": [
    "abc = abc.split(\"B\")\n",
    "print(abc)"
   ]
  },
  {
   "cell_type": "code",
   "execution_count": 9,
   "metadata": {},
   "outputs": [
    {
     "name": "stdout",
     "output_type": "stream",
     "text": [
      "['GCGHCFYCFGHV']\n"
     ]
    }
   ],
   "source": [
    "# Get input from the user\n",
    "user_input = input(\"Enter a list of strings separated by a delimiter (e.g., comma): \")\n",
    "\n",
    "# Define the delimiter\n",
    "delimiter = ','\n",
    "\n",
    "# Split the input string into a list\n",
    "user_list = user_input.split(delimiter)\n",
    "\n",
    "# Convert each element in the list to uppercase using map\n",
    "upper_list = list(map(lambda x: x.strip().upper(), user_list))\n",
    "\n",
    "# Use the existing variable 'abc' to get the list of string elements\n",
    "abc_list = abc.split(',')\n",
    "\n",
    "print(upper_list)"
   ]
  },
  {
   "cell_type": "code",
   "execution_count": 8,
   "metadata": {},
   "outputs": [
    {
     "name": "stdout",
     "output_type": "stream",
     "text": [
      "['C', 'V', 'V', 'J', 'V', 'F', ' ', 'U', 'G', 'U', 'H', ' ', 'I', 'U', 'G', 'I', 'U', 'B']\n"
     ]
    }
   ],
   "source": [
    "x = list(map(str, input().strip().upper()))\n",
    "print(x)"
   ]
  },
  {
   "cell_type": "code",
   "execution_count": 10,
   "metadata": {},
   "outputs": [
    {
     "name": "stdout",
     "output_type": "stream",
     "text": [
      "['c', 'v', 'v', 'j', 'v', 'f', ' ', 'u', 'g', 'u', 'h', ' ', 'i', 'u', 'g', 'i', 'u', 'b']\n"
     ]
    }
   ],
   "source": [
    "X = [x.lower() for x in x]\n",
    "print(X)"
   ]
  },
  {
   "cell_type": "code",
   "execution_count": 18,
   "metadata": {},
   "outputs": [
    {
     "name": "stdout",
     "output_type": "stream",
     "text": [
      "['A', 'B', 'C']\n"
     ]
    }
   ],
   "source": [
    "letter = list(map(str, \"abc\".strip().upper()))\n",
    "print(letter)"
   ]
  },
  {
   "cell_type": "code",
   "execution_count": 1,
   "metadata": {},
   "outputs": [
    {
     "ename": "NameError",
     "evalue": "name 'letter' is not defined",
     "output_type": "error",
     "traceback": [
      "\u001b[1;31m---------------------------------------------------------------------------\u001b[0m",
      "\u001b[1;31mNameError\u001b[0m                                 Traceback (most recent call last)",
      "Cell \u001b[1;32mIn[1], line 2\u001b[0m\n\u001b[0;32m      1\u001b[0m l \u001b[38;5;241m=\u001b[39m \u001b[38;5;124m\"\u001b[39m\u001b[38;5;124mB\u001b[39m\u001b[38;5;124m\"\u001b[39m\n\u001b[1;32m----> 2\u001b[0m \u001b[38;5;28;01mif\u001b[39;00m l \u001b[38;5;129;01min\u001b[39;00m \u001b[43mletter\u001b[49m:\n\u001b[0;32m      3\u001b[0m     \u001b[38;5;28mprint\u001b[39m(letter\u001b[38;5;241m.\u001b[39mindex(l))\n\u001b[0;32m      4\u001b[0m     \u001b[38;5;28mprint\u001b[39m(\u001b[38;5;28;01mTrue\u001b[39;00m)\n",
      "\u001b[1;31mNameError\u001b[0m: name 'letter' is not defined"
     ]
    }
   ],
   "source": [
    "l = \"B\"\n",
    "if l in letter:\n",
    "    print(letter.index(l))\n",
    "    print(True)"
   ]
  },
  {
   "cell_type": "code",
   "execution_count": null,
   "metadata": {},
   "outputs": [],
   "source": [
    "# Get input from the user\n",
    "user_input = input(\"Enter a list of integers separated by spaces (e.g., 1 4 7 4): \")\n",
    "\n",
    "# Split the input string into a list of strings\n",
    "str_list = user_input.split()\n",
    "\n",
    "# Convert each element in the list to an integer\n",
    "int_list = list(map(int, str_list))\n",
    "\n",
    "print(int_list)"
   ]
  },
  {
   "cell_type": "markdown",
   "metadata": {},
   "source": [
    "log reg\n",
    "Accuracy: 0.72\n",
    "Confusion Matrix:\n",
    "[[5360 1628]\n",
    " [2245 4767]]\n",
    "Classification Report:\n",
    "              precision    recall  f1-score   support\n",
    "\n",
    "           0       0.70      0.77      0.73      6988\n",
    "           1       0.75      0.68      0.71      7012\n",
    "\n",
    "    accuracy                           0.72     14000\n",
    "   macro avg       0.73      0.72      0.72     14000\n",
    "weighted avg       0.73      0.72      0.72     14000\n",
    "\n",
    "knn\n",
    "Accuracy: 0.65\n",
    "Confusion Matrix:\n",
    "[[4653 2335]\n",
    " [2591 4421]]\n",
    "Classification Report:\n",
    "              precision    recall  f1-score   support\n",
    "\n",
    "           0       0.64      0.67      0.65      6988\n",
    "           1       0.65      0.63      0.64      7012\n",
    "\n",
    "    accuracy                           0.65     14000\n",
    "   macro avg       0.65      0.65      0.65     14000\n",
    "weighted avg       0.65      0.65      0.65     14000\n",
    "\n",
    "D tree\n",
    "Accuracy: 0.73\n",
    "Confusion Matrix:\n",
    "[[5507 1481]\n",
    " [2237 4775]]\n",
    "Classification Report:\n",
    "              precision    recall  f1-score   support\n",
    "\n",
    "           0       0.71      0.79      0.75      6988\n",
    "           1       0.76      0.68      0.72      7012\n",
    "\n",
    "    accuracy                           0.73     14000\n",
    "   macro avg       0.74      0.73      0.73     14000\n",
    "weighted avg       0.74      0.73      0.73     14000\n",
    "\n",
    "SVM\n",
    "Accuracy: 0.73\n",
    "Confusion Matrix:\n",
    "[[5325 1663]\n",
    " [2119 4893]]\n",
    "Classification Report:\n",
    "              precision    recall  f1-score   support\n",
    "\n",
    "           0       0.72      0.76      0.74      6988\n",
    "           1       0.75      0.70      0.72      7012\n",
    "\n",
    "    accuracy                           0.73     14000\n",
    "   macro avg       0.73      0.73      0.73     14000\n",
    "weighted avg       0.73      0.73      0.73     14000\n",
    "\n",
    "random forest\n",
    "Accuracy: 0.73\n",
    "Confusion Matrix:\n",
    "[[5257 1731]\n",
    " [2090 4922]]\n",
    "Classification Report:\n",
    "              precision    recall  f1-score   support\n",
    "\n",
    "           0       0.72      0.75      0.73      6988\n",
    "           1       0.74      0.70      0.72      7012\n",
    "\n",
    "    accuracy                           0.73     14000\n",
    "   macro avg       0.73      0.73      0.73     14000\n",
    "weighted avg       0.73      0.73      0.73     14000\n",
    "\n",
    "lgb\n",
    "Accuracy: 0.74\n",
    "Confusion Matrix:\n",
    "[[5479 1509]\n",
    " [2124 4888]]\n",
    "Classification Report:\n",
    "              precision    recall  f1-score   support\n",
    "\n",
    "           0       0.72      0.78      0.75      6988\n",
    "           1       0.76      0.70      0.73      7012\n",
    "\n",
    "    accuracy                           0.74     14000\n",
    "   macro avg       0.74      0.74      0.74     14000\n",
    "weighted avg       0.74      0.74      0.74     14000\n",
    "\n",
    "xgb\n",
    "Accuracy: 0.74\n",
    "Confusion Matrix:\n",
    "[[5435 1553]\n",
    " [2097 4915]]\n",
    "Classification Report:\n",
    "              precision    recall  f1-score   support\n",
    "\n",
    "           0       0.72      0.78      0.75      6988\n",
    "           1       0.76      0.70      0.73      7012\n",
    "\n",
    "    accuracy                           0.74     14000\n",
    "   macro avg       0.74      0.74      0.74     14000\n",
    "weighted avg       0.74      0.74      0.74     14000\n",
    "\n",
    "Naive nayes\n",
    "Accuracy: 0.57\n",
    "Confusion Matrix:\n",
    "[[6489  499]\n",
    " [5466 1546]]\n",
    "Classification Report:\n",
    "              precision    recall  f1-score   support\n",
    "\n",
    "           0       0.54      0.93      0.69      6988\n",
    "           1       0.76      0.22      0.34      7012\n",
    "\n",
    "    accuracy                           0.57     14000\n",
    "   macro avg       0.65      0.57      0.51     14000\n",
    "weighted avg       0.65      0.57      0.51     14000"
   ]
  }
 ],
 "metadata": {
  "kernelspec": {
   "display_name": "AIML01",
   "language": "python",
   "name": "python3"
  },
  "language_info": {
   "codemirror_mode": {
    "name": "ipython",
    "version": 3
   },
   "file_extension": ".py",
   "mimetype": "text/x-python",
   "name": "python",
   "nbconvert_exporter": "python",
   "pygments_lexer": "ipython3",
   "version": "3.9.21"
  }
 },
 "nbformat": 4,
 "nbformat_minor": 2
}
